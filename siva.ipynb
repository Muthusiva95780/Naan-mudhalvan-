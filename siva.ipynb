{
 "cells": [
  {
   "cell_type": "code",
   "execution_count": 92,
   "metadata": {},
   "outputs": [],
   "source": [
    "# Importing Libraries\n",
    "\n",
    "import pandas as pd\n",
    "import numpy as np\n",
    "import matplotlib.pyplot as plt\n",
    "%matplotlib inline\n",
    "import seaborn as sns\n",
    "import dtale \n",
    "from pandas_profiling import profile_report\n",
    "import warnings\n",
    "warnings.filterwarnings('ignore')\n",
    "\n",
    "from sklearn.preprocessing import StandardScaler\n",
    "\n",
    "from sklearn.model_selection import train_test_split,cross_val_score,GridSearchCV\n",
    "from sklearn.metrics import r2_score\n",
    "\n",
    "from sklearn.tree import DecisionTreeRegressor\n",
    "from sklearn.linear_model import LinearRegression\n",
    "from sklearn.ensemble import RandomForestRegressor,AdaBoostRegressor,GradientBoostingRegressor,StackingRegressor\n"
   ]
  },
  {
   "cell_type": "code",
   "execution_count": 6,
   "metadata": {},
   "outputs": [
    {
     "data": {
      "text/plain": [
       "(1559, 12)"
      ]
     },
     "execution_count": 6,
     "metadata": {},
     "output_type": "execute_result"
    }
   ],
   "source": [
    "train_data = pd.read_csv('train_data.csv')\n",
    "train_data.shape"
   ]
  },
  {
   "cell_type": "code",
   "execution_count": 7,
   "metadata": {},
   "outputs": [
    {
     "data": {
      "text/html": [
       "<div>\n",
       "<style scoped>\n",
       "    .dataframe tbody tr th:only-of-type {\n",
       "        vertical-align: middle;\n",
       "    }\n",
       "\n",
       "    .dataframe tbody tr th {\n",
       "        vertical-align: top;\n",
       "    }\n",
       "\n",
       "    .dataframe thead th {\n",
       "        text-align: right;\n",
       "    }\n",
       "</style>\n",
       "<table border=\"1\" class=\"dataframe\">\n",
       "  <thead>\n",
       "    <tr style=\"text-align: right;\">\n",
       "      <th></th>\n",
       "      <th>Country name</th>\n",
       "      <th>year</th>\n",
       "      <th>Log GDP per capita</th>\n",
       "      <th>Social support</th>\n",
       "      <th>Healthy life expectancy at birth</th>\n",
       "      <th>Freedom to make life choices</th>\n",
       "      <th>Generosity</th>\n",
       "      <th>Perceptions of corruption</th>\n",
       "      <th>Positive affect</th>\n",
       "      <th>Negative affect</th>\n",
       "      <th>ID</th>\n",
       "      <th>Life Ladder</th>\n",
       "    </tr>\n",
       "  </thead>\n",
       "  <tbody>\n",
       "    <tr>\n",
       "      <th>0</th>\n",
       "      <td>Jordan</td>\n",
       "      <td>2008</td>\n",
       "      <td>9.343</td>\n",
       "      <td>0.766</td>\n",
       "      <td>64.22</td>\n",
       "      <td>NaN</td>\n",
       "      <td>-0.127</td>\n",
       "      <td>0.709</td>\n",
       "      <td>0.669</td>\n",
       "      <td>0.331</td>\n",
       "      <td>862</td>\n",
       "      <td>4.930</td>\n",
       "    </tr>\n",
       "    <tr>\n",
       "      <th>1</th>\n",
       "      <td>Estonia</td>\n",
       "      <td>2013</td>\n",
       "      <td>10.299</td>\n",
       "      <td>0.901</td>\n",
       "      <td>67.48</td>\n",
       "      <td>0.754</td>\n",
       "      <td>-0.201</td>\n",
       "      <td>0.726</td>\n",
       "      <td>0.702</td>\n",
       "      <td>0.199</td>\n",
       "      <td>534</td>\n",
       "      <td>5.367</td>\n",
       "    </tr>\n",
       "    <tr>\n",
       "      <th>2</th>\n",
       "      <td>Sweden</td>\n",
       "      <td>2018</td>\n",
       "      <td>10.881</td>\n",
       "      <td>0.931</td>\n",
       "      <td>72.60</td>\n",
       "      <td>0.942</td>\n",
       "      <td>0.077</td>\n",
       "      <td>0.263</td>\n",
       "      <td>0.823</td>\n",
       "      <td>0.161</td>\n",
       "      <td>1649</td>\n",
       "      <td>7.375</td>\n",
       "    </tr>\n",
       "    <tr>\n",
       "      <th>3</th>\n",
       "      <td>Tajikistan</td>\n",
       "      <td>2006</td>\n",
       "      <td>7.554</td>\n",
       "      <td>0.724</td>\n",
       "      <td>60.64</td>\n",
       "      <td>0.702</td>\n",
       "      <td>-0.088</td>\n",
       "      <td>0.768</td>\n",
       "      <td>0.566</td>\n",
       "      <td>0.195</td>\n",
       "      <td>1682</td>\n",
       "      <td>4.613</td>\n",
       "    </tr>\n",
       "    <tr>\n",
       "      <th>4</th>\n",
       "      <td>Kuwait</td>\n",
       "      <td>2014</td>\n",
       "      <td>10.945</td>\n",
       "      <td>NaN</td>\n",
       "      <td>65.80</td>\n",
       "      <td>NaN</td>\n",
       "      <td>NaN</td>\n",
       "      <td>NaN</td>\n",
       "      <td>NaN</td>\n",
       "      <td>NaN</td>\n",
       "      <td>925</td>\n",
       "      <td>6.180</td>\n",
       "    </tr>\n",
       "  </tbody>\n",
       "</table>\n",
       "</div>"
      ],
      "text/plain": [
       "  Country name  year  Log GDP per capita  Social support  ...  Positive affect  Negative affect    ID  Life Ladder\n",
       "0       Jordan  2008               9.343           0.766  ...            0.669            0.331   862        4.930\n",
       "1      Estonia  2013              10.299           0.901  ...            0.702            0.199   534        5.367\n",
       "2       Sweden  2018              10.881           0.931  ...            0.823            0.161  1649        7.375\n",
       "3   Tajikistan  2006               7.554           0.724  ...            0.566            0.195  1682        4.613\n",
       "4       Kuwait  2014              10.945             NaN  ...              NaN              NaN   925        6.180\n",
       "\n",
       "[5 rows x 12 columns]"
      ]
     },
     "execution_count": 7,
     "metadata": {},
     "output_type": "execute_result"
    }
   ],
   "source": [
    "train_data.head()"
   ]
  },
  {
   "cell_type": "code",
   "execution_count": 8,
   "metadata": {},
   "outputs": [
    {
     "data": {
      "text/html": [
       "<div>\n",
       "<style scoped>\n",
       "    .dataframe tbody tr th:only-of-type {\n",
       "        vertical-align: middle;\n",
       "    }\n",
       "\n",
       "    .dataframe tbody tr th {\n",
       "        vertical-align: top;\n",
       "    }\n",
       "\n",
       "    .dataframe thead th {\n",
       "        text-align: right;\n",
       "    }\n",
       "</style>\n",
       "<table border=\"1\" class=\"dataframe\">\n",
       "  <thead>\n",
       "    <tr style=\"text-align: right;\">\n",
       "      <th></th>\n",
       "      <th>Country name</th>\n",
       "      <th>year</th>\n",
       "      <th>Log GDP per capita</th>\n",
       "      <th>Social support</th>\n",
       "      <th>Healthy life expectancy at birth</th>\n",
       "      <th>Freedom to make life choices</th>\n",
       "      <th>Generosity</th>\n",
       "      <th>Perceptions of corruption</th>\n",
       "      <th>Positive affect</th>\n",
       "      <th>Negative affect</th>\n",
       "      <th>ID</th>\n",
       "      <th>Life Ladder</th>\n",
       "    </tr>\n",
       "  </thead>\n",
       "  <tbody>\n",
       "    <tr>\n",
       "      <th>1554</th>\n",
       "      <td>Moldova</td>\n",
       "      <td>2013</td>\n",
       "      <td>9.192</td>\n",
       "      <td>0.803</td>\n",
       "      <td>62.260</td>\n",
       "      <td>0.658</td>\n",
       "      <td>-0.069</td>\n",
       "      <td>0.941</td>\n",
       "      <td>0.582</td>\n",
       "      <td>0.261</td>\n",
       "      <td>1130</td>\n",
       "      <td>5.756</td>\n",
       "    </tr>\n",
       "    <tr>\n",
       "      <th>1555</th>\n",
       "      <td>North Macedonia</td>\n",
       "      <td>2015</td>\n",
       "      <td>9.613</td>\n",
       "      <td>0.766</td>\n",
       "      <td>65.145</td>\n",
       "      <td>0.660</td>\n",
       "      <td>-0.047</td>\n",
       "      <td>0.824</td>\n",
       "      <td>0.620</td>\n",
       "      <td>0.299</td>\n",
       "      <td>1294</td>\n",
       "      <td>4.976</td>\n",
       "    </tr>\n",
       "    <tr>\n",
       "      <th>1556</th>\n",
       "      <td>Jordan</td>\n",
       "      <td>2005</td>\n",
       "      <td>9.246</td>\n",
       "      <td>0.920</td>\n",
       "      <td>63.500</td>\n",
       "      <td>NaN</td>\n",
       "      <td>NaN</td>\n",
       "      <td>0.670</td>\n",
       "      <td>0.696</td>\n",
       "      <td>0.240</td>\n",
       "      <td>860</td>\n",
       "      <td>6.295</td>\n",
       "    </tr>\n",
       "    <tr>\n",
       "      <th>1557</th>\n",
       "      <td>Rwanda</td>\n",
       "      <td>2012</td>\n",
       "      <td>7.428</td>\n",
       "      <td>0.637</td>\n",
       "      <td>57.440</td>\n",
       "      <td>0.835</td>\n",
       "      <td>-0.012</td>\n",
       "      <td>0.081</td>\n",
       "      <td>0.703</td>\n",
       "      <td>0.132</td>\n",
       "      <td>1459</td>\n",
       "      <td>3.333</td>\n",
       "    </tr>\n",
       "    <tr>\n",
       "      <th>1558</th>\n",
       "      <td>Moldova</td>\n",
       "      <td>2009</td>\n",
       "      <td>8.984</td>\n",
       "      <td>0.856</td>\n",
       "      <td>61.120</td>\n",
       "      <td>0.551</td>\n",
       "      <td>-0.099</td>\n",
       "      <td>0.925</td>\n",
       "      <td>0.562</td>\n",
       "      <td>0.306</td>\n",
       "      <td>1126</td>\n",
       "      <td>5.554</td>\n",
       "    </tr>\n",
       "  </tbody>\n",
       "</table>\n",
       "</div>"
      ],
      "text/plain": [
       "         Country name  year  Log GDP per capita  Social support  ...  Positive affect  Negative affect    ID  Life Ladder\n",
       "1554          Moldova  2013               9.192           0.803  ...            0.582            0.261  1130        5.756\n",
       "1555  North Macedonia  2015               9.613           0.766  ...            0.620            0.299  1294        4.976\n",
       "1556           Jordan  2005               9.246           0.920  ...            0.696            0.240   860        6.295\n",
       "1557           Rwanda  2012               7.428           0.637  ...            0.703            0.132  1459        3.333\n",
       "1558          Moldova  2009               8.984           0.856  ...            0.562            0.306  1126        5.554\n",
       "\n",
       "[5 rows x 12 columns]"
      ]
     },
     "execution_count": 8,
     "metadata": {},
     "output_type": "execute_result"
    }
   ],
   "source": [
    "train_data.tail()"
   ]
  },
  {
   "cell_type": "code",
   "execution_count": 9,
   "metadata": {},
   "outputs": [
    {
     "name": "stdout",
     "output_type": "stream",
     "text": [
      "<class 'pandas.core.frame.DataFrame'>\n",
      "RangeIndex: 1559 entries, 0 to 1558\n",
      "Data columns (total 12 columns):\n",
      " #   Column                            Non-Null Count  Dtype  \n",
      "---  ------                            --------------  -----  \n",
      " 0   Country name                      1559 non-null   object \n",
      " 1   year                              1559 non-null   int64  \n",
      " 2   Log GDP per capita                1533 non-null   float64\n",
      " 3   Social support                    1549 non-null   float64\n",
      " 4   Healthy life expectancy at birth  1522 non-null   float64\n",
      " 5   Freedom to make life choices      1537 non-null   float64\n",
      " 6   Generosity                        1488 non-null   float64\n",
      " 7   Perceptions of corruption         1473 non-null   float64\n",
      " 8   Positive affect                   1542 non-null   float64\n",
      " 9   Negative affect                   1545 non-null   float64\n",
      " 10  ID                                1559 non-null   int64  \n",
      " 11  Life Ladder                       1559 non-null   float64\n",
      "dtypes: float64(9), int64(2), object(1)\n",
      "memory usage: 146.3+ KB\n"
     ]
    }
   ],
   "source": [
    "train_data.info()"
   ]
  },
  {
   "cell_type": "code",
   "execution_count": 12,
   "metadata": {},
   "outputs": [
    {
     "data": {
      "text/plain": [
       "Country name                        0.000000\n",
       "year                                0.000000\n",
       "Log GDP per capita                  1.667736\n",
       "Social support                      0.641437\n",
       "Healthy life expectancy at birth    2.373316\n",
       "Freedom to make life choices        1.411161\n",
       "Generosity                          4.554201\n",
       "Perceptions of corruption           5.516357\n",
       "Positive affect                     1.090443\n",
       "Negative affect                     0.898012\n",
       "ID                                  0.000000\n",
       "Life Ladder                         0.000000\n",
       "dtype: float64"
      ]
     },
     "execution_count": 12,
     "metadata": {},
     "output_type": "execute_result"
    }
   ],
   "source": [
    "train_data.isnull().sum()/len(train_data)*100"
   ]
  },
  {
   "cell_type": "code",
   "execution_count": 188,
   "metadata": {},
   "outputs": [
    {
     "data": {
      "text/plain": [
       "(390, 11)"
      ]
     },
     "execution_count": 188,
     "metadata": {},
     "output_type": "execute_result"
    }
   ],
   "source": [
    "test_data=pd.read_csv('test_data.csv')\n",
    "test_data.shape"
   ]
  },
  {
   "cell_type": "code",
   "execution_count": 14,
   "metadata": {},
   "outputs": [
    {
     "name": "stdout",
     "output_type": "stream",
     "text": [
      "<class 'pandas.core.frame.DataFrame'>\n",
      "RangeIndex: 390 entries, 0 to 389\n",
      "Data columns (total 11 columns):\n",
      " #   Column                            Non-Null Count  Dtype  \n",
      "---  ------                            --------------  -----  \n",
      " 0   Country name                      390 non-null    object \n",
      " 1   year                              390 non-null    int64  \n",
      " 2   Log GDP per capita                380 non-null    float64\n",
      " 3   Social support                    387 non-null    float64\n",
      " 4   Healthy life expectancy at birth  372 non-null    float64\n",
      " 5   Freedom to make life choices      380 non-null    float64\n",
      " 6   Generosity                        372 non-null    float64\n",
      " 7   Perceptions of corruption         366 non-null    float64\n",
      " 8   Positive affect                   385 non-null    float64\n",
      " 9   Negative affect                   388 non-null    float64\n",
      " 10  ID                                390 non-null    int64  \n",
      "dtypes: float64(8), int64(2), object(1)\n",
      "memory usage: 33.6+ KB\n"
     ]
    }
   ],
   "source": [
    "test_data.info()"
   ]
  },
  {
   "cell_type": "code",
   "execution_count": 15,
   "metadata": {},
   "outputs": [
    {
     "data": {
      "text/plain": [
       "Country name                         0\n",
       "year                                 0\n",
       "Log GDP per capita                  10\n",
       "Social support                       3\n",
       "Healthy life expectancy at birth    18\n",
       "Freedom to make life choices        10\n",
       "Generosity                          18\n",
       "Perceptions of corruption           24\n",
       "Positive affect                      5\n",
       "Negative affect                      2\n",
       "ID                                   0\n",
       "dtype: int64"
      ]
     },
     "execution_count": 15,
     "metadata": {},
     "output_type": "execute_result"
    }
   ],
   "source": [
    "test_data.isnull().sum()"
   ]
  },
  {
   "cell_type": "code",
   "execution_count": 16,
   "metadata": {},
   "outputs": [],
   "source": [
    "d = dtale.show(train_data)\n",
    "d.open_browser()"
   ]
  },
  {
   "cell_type": "code",
   "execution_count": 17,
   "metadata": {},
   "outputs": [
    {
     "data": {
      "text/html": [
       "<div>\n",
       "<style scoped>\n",
       "    .dataframe tbody tr th:only-of-type {\n",
       "        vertical-align: middle;\n",
       "    }\n",
       "\n",
       "    .dataframe tbody tr th {\n",
       "        vertical-align: top;\n",
       "    }\n",
       "\n",
       "    .dataframe thead th {\n",
       "        text-align: right;\n",
       "    }\n",
       "</style>\n",
       "<table border=\"1\" class=\"dataframe\">\n",
       "  <thead>\n",
       "    <tr style=\"text-align: right;\">\n",
       "      <th></th>\n",
       "      <th>year</th>\n",
       "      <th>Log GDP per capita</th>\n",
       "      <th>Social support</th>\n",
       "      <th>Healthy life expectancy at birth</th>\n",
       "      <th>Freedom to make life choices</th>\n",
       "      <th>Generosity</th>\n",
       "      <th>Perceptions of corruption</th>\n",
       "      <th>Positive affect</th>\n",
       "      <th>Negative affect</th>\n",
       "      <th>ID</th>\n",
       "      <th>Life Ladder</th>\n",
       "    </tr>\n",
       "  </thead>\n",
       "  <tbody>\n",
       "    <tr>\n",
       "      <th>count</th>\n",
       "      <td>1559.000000</td>\n",
       "      <td>1533.000000</td>\n",
       "      <td>1549.000000</td>\n",
       "      <td>1522.000000</td>\n",
       "      <td>1537.000000</td>\n",
       "      <td>1488.000000</td>\n",
       "      <td>1473.000000</td>\n",
       "      <td>1542.000000</td>\n",
       "      <td>1545.000000</td>\n",
       "      <td>1559.000000</td>\n",
       "      <td>1559.000000</td>\n",
       "    </tr>\n",
       "    <tr>\n",
       "      <th>mean</th>\n",
       "      <td>2013.131495</td>\n",
       "      <td>9.362995</td>\n",
       "      <td>0.812689</td>\n",
       "      <td>63.331680</td>\n",
       "      <td>0.741882</td>\n",
       "      <td>0.000343</td>\n",
       "      <td>0.748248</td>\n",
       "      <td>0.708551</td>\n",
       "      <td>0.267644</td>\n",
       "      <td>974.962797</td>\n",
       "      <td>5.469321</td>\n",
       "    </tr>\n",
       "    <tr>\n",
       "      <th>std</th>\n",
       "      <td>4.206026</td>\n",
       "      <td>1.160240</td>\n",
       "      <td>0.118762</td>\n",
       "      <td>7.478307</td>\n",
       "      <td>0.142326</td>\n",
       "      <td>0.163385</td>\n",
       "      <td>0.186708</td>\n",
       "      <td>0.108029</td>\n",
       "      <td>0.084431</td>\n",
       "      <td>562.023107</td>\n",
       "      <td>1.113280</td>\n",
       "    </tr>\n",
       "    <tr>\n",
       "      <th>min</th>\n",
       "      <td>2005.000000</td>\n",
       "      <td>6.635000</td>\n",
       "      <td>0.290000</td>\n",
       "      <td>32.300000</td>\n",
       "      <td>0.260000</td>\n",
       "      <td>-0.335000</td>\n",
       "      <td>0.035000</td>\n",
       "      <td>0.322000</td>\n",
       "      <td>0.083000</td>\n",
       "      <td>0.000000</td>\n",
       "      <td>2.375000</td>\n",
       "    </tr>\n",
       "    <tr>\n",
       "      <th>25%</th>\n",
       "      <td>2010.000000</td>\n",
       "      <td>8.460000</td>\n",
       "      <td>0.753000</td>\n",
       "      <td>58.340000</td>\n",
       "      <td>0.646000</td>\n",
       "      <td>-0.113000</td>\n",
       "      <td>0.691000</td>\n",
       "      <td>0.623000</td>\n",
       "      <td>0.206000</td>\n",
       "      <td>494.500000</td>\n",
       "      <td>4.649500</td>\n",
       "    </tr>\n",
       "    <tr>\n",
       "      <th>50%</th>\n",
       "      <td>2013.000000</td>\n",
       "      <td>9.456000</td>\n",
       "      <td>0.835000</td>\n",
       "      <td>65.180000</td>\n",
       "      <td>0.763000</td>\n",
       "      <td>-0.025000</td>\n",
       "      <td>0.804000</td>\n",
       "      <td>0.721000</td>\n",
       "      <td>0.258000</td>\n",
       "      <td>973.000000</td>\n",
       "      <td>5.374000</td>\n",
       "    </tr>\n",
       "    <tr>\n",
       "      <th>75%</th>\n",
       "      <td>2017.000000</td>\n",
       "      <td>10.332000</td>\n",
       "      <td>0.905000</td>\n",
       "      <td>68.535000</td>\n",
       "      <td>0.855000</td>\n",
       "      <td>0.091000</td>\n",
       "      <td>0.873000</td>\n",
       "      <td>0.798000</td>\n",
       "      <td>0.319000</td>\n",
       "      <td>1459.500000</td>\n",
       "      <td>6.272500</td>\n",
       "    </tr>\n",
       "    <tr>\n",
       "      <th>max</th>\n",
       "      <td>2020.000000</td>\n",
       "      <td>11.648000</td>\n",
       "      <td>0.987000</td>\n",
       "      <td>77.100000</td>\n",
       "      <td>0.985000</td>\n",
       "      <td>0.698000</td>\n",
       "      <td>0.983000</td>\n",
       "      <td>0.944000</td>\n",
       "      <td>0.705000</td>\n",
       "      <td>1948.000000</td>\n",
       "      <td>8.019000</td>\n",
       "    </tr>\n",
       "  </tbody>\n",
       "</table>\n",
       "</div>"
      ],
      "text/plain": [
       "              year  Log GDP per capita  Social support  ...  Negative affect           ID  Life Ladder\n",
       "count  1559.000000         1533.000000     1549.000000  ...      1545.000000  1559.000000  1559.000000\n",
       "mean   2013.131495            9.362995        0.812689  ...         0.267644   974.962797     5.469321\n",
       "std       4.206026            1.160240        0.118762  ...         0.084431   562.023107     1.113280\n",
       "min    2005.000000            6.635000        0.290000  ...         0.083000     0.000000     2.375000\n",
       "25%    2010.000000            8.460000        0.753000  ...         0.206000   494.500000     4.649500\n",
       "50%    2013.000000            9.456000        0.835000  ...         0.258000   973.000000     5.374000\n",
       "75%    2017.000000           10.332000        0.905000  ...         0.319000  1459.500000     6.272500\n",
       "max    2020.000000           11.648000        0.987000  ...         0.705000  1948.000000     8.019000\n",
       "\n",
       "[8 rows x 11 columns]"
      ]
     },
     "execution_count": 17,
     "metadata": {},
     "output_type": "execute_result"
    }
   ],
   "source": [
    "train_data.describe()"
   ]
  },
  {
   "cell_type": "code",
   "execution_count": 18,
   "metadata": {},
   "outputs": [],
   "source": [
    "# Missing Values_imputation"
   ]
  },
  {
   "cell_type": "code",
   "execution_count": 32,
   "metadata": {},
   "outputs": [],
   "source": [
    "MissingCols = train_data[train_data.columns[train_data.isnull().sum()>0]].columns"
   ]
  },
  {
   "cell_type": "code",
   "execution_count": 33,
   "metadata": {},
   "outputs": [
    {
     "data": {
      "text/plain": [
       "Index(['Log GDP per capita', 'Social support',\n",
       "       'Healthy life expectancy at birth', 'Freedom to make life choices',\n",
       "       'Generosity', 'Perceptions of corruption', 'Positive affect',\n",
       "       'Negative affect'],\n",
       "      dtype='object')"
      ]
     },
     "execution_count": 33,
     "metadata": {},
     "output_type": "execute_result"
    }
   ],
   "source": [
    "MissingCols"
   ]
  },
  {
   "cell_type": "code",
   "execution_count": 36,
   "metadata": {},
   "outputs": [],
   "source": [
    "for i in MissingCols:\n",
    "    train_data[i].fillna(train_data[i].median(),inplace=True)\n",
    "    "
   ]
  },
  {
   "cell_type": "code",
   "execution_count": 37,
   "metadata": {},
   "outputs": [
    {
     "data": {
      "text/plain": [
       "Country name                        0\n",
       "year                                0\n",
       "Log GDP per capita                  0\n",
       "Social support                      0\n",
       "Healthy life expectancy at birth    0\n",
       "Freedom to make life choices        0\n",
       "Generosity                          0\n",
       "Perceptions of corruption           0\n",
       "Positive affect                     0\n",
       "Negative affect                     0\n",
       "ID                                  0\n",
       "Life Ladder                         0\n",
       "dtype: int64"
      ]
     },
     "execution_count": 37,
     "metadata": {},
     "output_type": "execute_result"
    }
   ],
   "source": [
    "train_data.isnull().sum()"
   ]
  },
  {
   "cell_type": "code",
   "execution_count": 38,
   "metadata": {},
   "outputs": [],
   "source": [
    "# Using Dtale Again after missing values imputed\n",
    "d1 = dtale.show(train_data)\n",
    "d1.open_browser()"
   ]
  },
  {
   "cell_type": "code",
   "execution_count": 40,
   "metadata": {},
   "outputs": [
    {
     "data": {
      "text/plain": [
       "count    1559.000000\n",
       "mean        5.469321\n",
       "std         1.113280\n",
       "min         2.375000\n",
       "25%         4.649500\n",
       "50%         5.374000\n",
       "75%         6.272500\n",
       "max         8.019000\n",
       "Name: Life Ladder, dtype: float64"
      ]
     },
     "execution_count": 40,
     "metadata": {},
     "output_type": "execute_result"
    }
   ],
   "source": [
    "# EDA- Describing the Target Variable and it's coorelation with other Variables\n",
    "\n",
    "train_data['Life Ladder'].describe()\n",
    "# Score Range is from 2.37 to 8.01. 50% of the people are below 5.37 Score\n",
    "\n"
   ]
  },
  {
   "cell_type": "code",
   "execution_count": 52,
   "metadata": {},
   "outputs": [
    {
     "data": {
      "text/plain": [
       "<AxesSubplot:>"
      ]
     },
     "execution_count": 52,
     "metadata": {},
     "output_type": "execute_result"
    },
    {
     "data": {
      "image/png": "[encoded data removed]",
      "text/plain": [
       "<Figure size 504x360 with 1 Axes>"
      ]
     },
     "metadata": {
      "needs_background": "light"
     },
     "output_type": "display_data"
    }
   ],
   "source": [
    "plt.figure(figsize=(7,5))\n",
    "train_data.corr()['Life Ladder'].plot(kind='bar')\n",
    "\n",
    "# Highest Coorelation of Target Variable is with LOG GDP Per Capita,Healthy Life expectancy. Lower Correlation with Genorisity.\n",
    "# Negative Coorelation with Perception of corruption, Negative effect"
   ]
  },
  {
   "cell_type": "code",
   "execution_count": 60,
   "metadata": {},
   "outputs": [
    {
     "data": {
      "text/plain": [
       "<AxesSubplot:xlabel='Life Ladder', ylabel='Perceptions of corruption'>"
      ]
     },
     "execution_count": 60,
     "metadata": {},
     "output_type": "execute_result"
    },
    {
     "data": {
      "image/png": "[encoded data removed]",
      "text/plain": [
       "<Figure size 432x288 with 1 Axes>"
      ]
     },
     "metadata": {
      "needs_background": "light"
     },
     "output_type": "display_data"
    }
   ],
   "source": [
    "sns.regplot(data=train_data,x='Life Ladder',y='Perceptions of corruption')"
   ]
  },
  {
   "cell_type": "code",
   "execution_count": 68,
   "metadata": {},
   "outputs": [
    {
     "data": {
      "text/plain": [
       "<AxesSubplot:xlabel='Country name', ylabel='count'>"
      ]
     },
     "execution_count": 68,
     "metadata": {},
     "output_type": "execute_result"
    },
    {
     "data": {
      "image/png": "[encoded data removed]",
      "text/plain": [
       "<Figure size 1512x1512 with 1 Axes>"
      ]
     },
     "metadata": {
      "needs_background": "light"
     },
     "output_type": "display_data"
    }
   ],
   "source": [
    "plt.figure(figsize=(21,21))\n",
    "plt.xticks(rotation=90)\n",
    "sns.countplot(train_data['Country name'])"
   ]
  },
  {
   "cell_type": "code",
   "execution_count": 79,
   "metadata": {},
   "outputs": [
    {
     "data": {
      "text/plain": [
       "<AxesSubplot:xlabel='Country name'>"
      ]
     },
     "execution_count": 79,
     "metadata": {},
     "output_type": "execute_result"
    },
    {
     "data": {
      "image/png": "[encoded data removed]",
      "text/plain": [
       "<Figure size 432x288 with 1 Axes>"
      ]
     },
     "metadata": {
      "needs_background": "light"
     },
     "output_type": "display_data"
    }
   ],
   "source": [
    "#Country with Good Life Ladder Score and Low Life Ladder Scores\n",
    "#Top 10 Countries with Good Life Ladder Score\n",
    "train_data.groupby(by=['Country name']).mean()['Life Ladder'].sort_values(ascending=False)[:11].plot(kind='bar')"
   ]
  },
  {
   "cell_type": "code",
   "execution_count": 142,
   "metadata": {},
   "outputs": [
    {
     "data": {
      "text/plain": [
       "<AxesSubplot:xlabel='Country name'>"
      ]
     },
     "execution_count": 142,
     "metadata": {},
     "output_type": "execute_result"
    },
    {
     "data": {
      "image/png": "[encoded data removed]",
      "text/plain": [
       "<Figure size 432x288 with 1 Axes>"
      ]
     },
     "metadata": {
      "needs_background": "light"
     },
     "output_type": "display_data"
    }
   ],
   "source": [
    "#Bottom 10 Countries with Bad Life Ladder Score\n",
    "train_data.groupby(by=['Country name']).mean()['Life Ladder'].sort_values(ascending=False)[-11:-1].plot(kind='bar')"
   ]
  },
  {
   "cell_type": "code",
   "execution_count": 143,
   "metadata": {},
   "outputs": [
    {
     "name": "stdout",
     "output_type": "stream",
     "text": [
      "(1559, 8)\n",
      "(1559,)\n"
     ]
    }
   ],
   "source": [
    "# Working on Modelling Part\n",
    "X = train_data.drop(['Country name','ID','Life Ladder','year'],axis=1)\n",
    "y = train_data['Life Ladder']\n",
    "print(X.shape)\n",
    "print(y.shape)"
   ]
  },
  {
   "cell_type": "code",
   "execution_count": 144,
   "metadata": {},
   "outputs": [
    {
     "name": "stdout",
     "output_type": "stream",
     "text": [
      "(1247, 8) (1247,) (312, 8) (312,)\n"
     ]
    }
   ],
   "source": [
    "X_train,X_test,y_train,y_test = train_test_split(X,y,test_size=0.2,random_state=42)\n",
    "print(X_train.shape,y_train.shape,X_test.shape,y_test.shape)"
   ]
  },
  {
   "cell_type": "code",
   "execution_count": 163,
   "metadata": {},
   "outputs": [
    {
     "name": "stdout",
     "output_type": "stream",
     "text": [
      "      Log GDP per capita  Social support  ...  Positive affect  Negative affect\n",
      "844             1.044545        0.705118  ...         0.064189         1.063411\n",
      "923             0.955002        0.817281  ...         0.389114        -0.722964\n",
      "1237            0.521194        0.765513  ...        -0.130767        -1.342240\n",
      "774             0.136940       -0.252583  ...        -1.086977        -0.818237\n",
      "1258           -0.473347        0.851793  ...         1.261772        -0.556235\n",
      "\n",
      "[5 rows x 8 columns]\n",
      "      Log GDP per capita  Social support  ...  Positive affect  Negative affect\n",
      "1524            0.068261       -1.538146  ...        -0.372140         0.801409\n",
      "1483           -0.389020        0.040766  ...         1.038966         0.277406\n",
      "354             1.414890        0.627466  ...         1.038966        -2.044881\n",
      "668            -0.068228       -0.330235  ...         1.178220        -1.485150\n",
      "1422           -2.188582        0.118418  ...        -1.114828        -0.949238\n",
      "\n",
      "[5 rows x 8 columns]\n"
     ]
    }
   ],
   "source": [
    "SS = StandardScaler()\n",
    "X_train[X_train.columns] = SS.fit_transform(X_train)\n",
    "X_test[X_test.columns] = SS.transform(X_test)\n",
    "print(X_train.head())\n",
    "print(X_test.head())"
   ]
  },
  {
   "cell_type": "markdown",
   "metadata": {},
   "source": [
    "## Model 1 - Linear Regression"
   ]
  },
  {
   "cell_type": "code",
   "execution_count": 164,
   "metadata": {},
   "outputs": [
    {
     "name": "stdout",
     "output_type": "stream",
     "text": [
      "0.7747362093897262\n",
      "0.6932480171321034\n",
      "0.7690008150206628\n"
     ]
    }
   ],
   "source": [
    "LR = LinearRegression()\n",
    "LR.fit(X_train,y_train)\n",
    "LR_Train = LR.predict(X_train)\n",
    "LR_Test = LR.predict(X_test)\n",
    "print(r2_score(y_train,LR_Train))\n",
    "print(r2_score(y_test,LR_Test))\n",
    "LR_CV = cross_val_score(estimator=LinearRegression(),cv=10,X=X_train,y=y_train)\n",
    "print(LR_CV.mean())"
   ]
  },
  {
   "cell_type": "markdown",
   "metadata": {},
   "source": [
    "## Model 2 - Decision Tree"
   ]
  },
  {
   "cell_type": "code",
   "execution_count": 147,
   "metadata": {},
   "outputs": [
    {
     "name": "stdout",
     "output_type": "stream",
     "text": [
      "1.0\n",
      "0.6895282730308702\n",
      "0.7134494757596034\n"
     ]
    }
   ],
   "source": [
    "DT = DecisionTreeRegressor()\n",
    "DT.fit(X_train,y_train)\n",
    "DT_Train = DT.predict(X_train)\n",
    "DT_Test = DT.predict(X_test)\n",
    "print(r2_score(y_train,DT_Train))\n",
    "print(r2_score(y_test,DT_Test))\n",
    "DT_CV = cross_val_score(estimator=DecisionTreeRegressor(),cv=10,X=X_train,y=y_train)\n",
    "print(DT_CV.mean())"
   ]
  },
  {
   "cell_type": "markdown",
   "metadata": {},
   "source": [
    "## 2.1 - Model using DecisionTree Regression using GridSearchCV"
   ]
  },
  {
   "cell_type": "code",
   "execution_count": 166,
   "metadata": {},
   "outputs": [
    {
     "name": "stdout",
     "output_type": "stream",
     "text": [
      "{'max_depth': 6}\n",
      "0.8689939789723415\n",
      "0.7269907638790614\n",
      "0.7776743688245565\n"
     ]
    }
   ],
   "source": [
    "GSV= GridSearchCV(estimator=DecisionTreeRegressor(),cv=10,param_grid=dict(max_depth = [1,2,3,4,5,6,7,8,9,10,11,12,13,14]))\n",
    "GSV.fit(X_train,y_train)\n",
    "print(GSV.best_params_)\n",
    "DT = DecisionTreeRegressor(max_depth=6)\n",
    "DT.fit(X_train,y_train)\n",
    "DT_Train = DT.predict(X_train)\n",
    "DT_Test = DT.predict(X_test)\n",
    "print(r2_score(y_train,DT_Train))\n",
    "print(r2_score(y_test,DT_Test))\n",
    "DT_CV = cross_val_score(estimator=DecisionTreeRegressor(max_depth=6),cv=10,X=X_train,y=y_train)\n",
    "print(DT_CV.mean())\n"
   ]
  },
  {
   "cell_type": "markdown",
   "metadata": {},
   "source": [
    "## Model 3 - Random Forest Regressor"
   ]
  },
  {
   "cell_type": "code",
   "execution_count": 167,
   "metadata": {},
   "outputs": [
    {
     "name": "stdout",
     "output_type": "stream",
     "text": [
      "0.9803013137950674\n",
      "0.8226485010745528\n",
      "0.860300773793532\n"
     ]
    }
   ],
   "source": [
    "RF = RandomForestRegressor()\n",
    "RF.fit(X_train,y_train)\n",
    "RF_Train = RF.predict(X_train)\n",
    "RF_Test = RF.predict(X_test)\n",
    "print(r2_score(y_train,RF_Train))\n",
    "print(r2_score(y_test,RF_Test))\n",
    "RF_CV = cross_val_score(estimator=RandomForestRegressor(),cv=10,X=X_train,y=y_train)\n",
    "print(RF_CV.mean())"
   ]
  },
  {
   "cell_type": "markdown",
   "metadata": {},
   "source": [
    "## Model 3.1 - Random Forest Regressor using GSV"
   ]
  },
  {
   "cell_type": "code",
   "execution_count": 189,
   "metadata": {},
   "outputs": [
    {
     "name": "stdout",
     "output_type": "stream",
     "text": [
      "{'n_estimators': 91}\n",
      "0.9803157654457267\n",
      "0.8186806496563016\n",
      "0.8590299173940208\n"
     ]
    }
   ],
   "source": [
    "GSV= GridSearchCV(estimator=RandomForestRegressor(random_state=42),cv=10,param_grid=dict(n_estimators = np.arange(1,100,10)),)\n",
    "GSV.fit(X_train,y_train)\n",
    "print(GSV.best_params_)\n",
    "RF = RandomForestRegressor(n_estimators=91)\n",
    "RF.fit(X_train,y_train)\n",
    "RF_Train = RF.predict(X_train)\n",
    "RF_Test = RF.predict(X_test)\n",
    "print(r2_score(y_train,RF_Train))\n",
    "print(r2_score(y_test,RF_Test))\n",
    "RF_CV = cross_val_score(estimator=RandomForestRegressor(n_estimators=91),cv=10,X=X_train,y=y_train)\n",
    "print(RF_CV.mean())"
   ]
  },
  {
   "cell_type": "markdown",
   "metadata": {},
   "source": [
    "## Model 4 -  Gradient boosting regressor"
   ]
  },
  {
   "cell_type": "code",
   "execution_count": 151,
   "metadata": {},
   "outputs": [
    {
     "name": "stdout",
     "output_type": "stream",
     "text": [
      "0.8999597523159544\n",
      "0.7714021901655854\n",
      "0.8344071591271585\n"
     ]
    }
   ],
   "source": [
    "GB = GradientBoostingRegressor()\n",
    "GB.fit(X_train,y_train)\n",
    "GB_Train = GB.predict(X_train)\n",
    "GB_Test = GB.predict(X_test)\n",
    "print(r2_score(y_train,GB_Train))\n",
    "print(r2_score(y_test,GB_Test))\n",
    "GB_CV = cross_val_score(estimator=GradientBoostingRegressor(),cv=10,X=X_train,y=y_train)\n",
    "print(GB_CV.mean())"
   ]
  },
  {
   "cell_type": "markdown",
   "metadata": {},
   "source": [
    "## Model 4.1 -  Gradient boosting regressor"
   ]
  },
  {
   "cell_type": "code",
   "execution_count": 152,
   "metadata": {},
   "outputs": [
    {
     "name": "stdout",
     "output_type": "stream",
     "text": [
      "{'n_estimators': 91}\n",
      "0.8967164161254498\n",
      "0.77097945194246\n",
      "0.834118042827612\n"
     ]
    }
   ],
   "source": [
    "GSV= GridSearchCV(estimator=GradientBoostingRegressor(),cv=10,param_grid=dict(n_estimators = np.arange(1,100,10)))\n",
    "GSV.fit(X_train,y_train)\n",
    "print(GSV.best_params_)\n",
    "GB = GradientBoostingRegressor(n_estimators=91)\n",
    "GB.fit(X_train,y_train)\n",
    "GB_Train = GB.predict(X_train)\n",
    "GB_Test = GB.predict(X_test)\n",
    "print(r2_score(y_train,GB_Train))\n",
    "print(r2_score(y_test,GB_Test))\n",
    "GB_CV = cross_val_score(estimator=GradientBoostingRegressor(n_estimators=91),cv=10,X=X_train,y=y_train)\n",
    "print(GB_CV.mean())"
   ]
  },
  {
   "cell_type": "markdown",
   "metadata": {},
   "source": [
    "## Model 5 - Adaboosting Regressor"
   ]
  },
  {
   "cell_type": "code",
   "execution_count": 153,
   "metadata": {},
   "outputs": [
    {
     "name": "stdout",
     "output_type": "stream",
     "text": [
      "{'n_estimators': 71}\n",
      "0.8314442090179994\n",
      "0.742827333305958\n",
      "0.804296671225979\n"
     ]
    }
   ],
   "source": [
    "GSV= GridSearchCV(estimator=AdaBoostRegressor(),cv=10,param_grid=dict(n_estimators = np.arange(1,100,10)))\n",
    "GSV.fit(X_train,y_train)\n",
    "print(GSV.best_params_)\n",
    "AB = AdaBoostRegressor()\n",
    "AB.fit(X_train,y_train)\n",
    "AB_Train = AB.predict(X_train)\n",
    "AB_Test = AB.predict(X_test)\n",
    "print(r2_score(y_train,AB_Train))\n",
    "print(r2_score(y_test,AB_Test))\n",
    "AB_CV = cross_val_score(estimator=AdaBoostRegressor(),cv=10,X=X_train,y=y_train)\n",
    "print(AB_CV.mean())"
   ]
  },
  {
   "cell_type": "markdown",
   "metadata": {},
   "source": [
    "## From all the Models, RF with N-Estimators = 91 Shows promising results"
   ]
  },
  {
   "cell_type": "code",
   "execution_count": 190,
   "metadata": {},
   "outputs": [
    {
     "data": {
      "text/plain": [
       "Country name                         0\n",
       "year                                 0\n",
       "Log GDP per capita                  10\n",
       "Social support                       3\n",
       "Healthy life expectancy at birth    18\n",
       "Freedom to make life choices        10\n",
       "Generosity                          18\n",
       "Perceptions of corruption           24\n",
       "Positive affect                      5\n",
       "Negative affect                      2\n",
       "ID                                   0\n",
       "dtype: int64"
      ]
     },
     "execution_count": 190,
     "metadata": {},
     "output_type": "execute_result"
    }
   ],
   "source": [
    "test_data.isnull().sum()"
   ]
  },
  {
   "cell_type": "code",
   "execution_count": 191,
   "metadata": {},
   "outputs": [
    {
     "data": {
      "text/plain": [
       "Index(['Log GDP per capita', 'Social support',\n",
       "       'Healthy life expectancy at birth', 'Freedom to make life choices',\n",
       "       'Generosity', 'Perceptions of corruption', 'Positive affect',\n",
       "       'Negative affect'],\n",
       "      dtype='object')"
      ]
     },
     "execution_count": 191,
     "metadata": {},
     "output_type": "execute_result"
    }
   ],
   "source": [
    "MissingCols"
   ]
  },
  {
   "cell_type": "code",
   "execution_count": 192,
   "metadata": {},
   "outputs": [],
   "source": [
    "for i in MissingCols:\n",
    "    test_data[i].fillna(test_data[i].median(),inplace=True)"
   ]
  },
  {
   "cell_type": "code",
   "execution_count": 193,
   "metadata": {},
   "outputs": [],
   "source": [
    "X1 = test_data.drop(['Country name','ID','year'],axis=1)"
   ]
  },
  {
   "cell_type": "code",
   "execution_count": 199,
   "metadata": {},
   "outputs": [
    {
     "data": {
      "text/html": [
       "<div>\n",
       "<style scoped>\n",
       "    .dataframe tbody tr th:only-of-type {\n",
       "        vertical-align: middle;\n",
       "    }\n",
       "\n",
       "    .dataframe tbody tr th {\n",
       "        vertical-align: top;\n",
       "    }\n",
       "\n",
       "    .dataframe thead th {\n",
       "        text-align: right;\n",
       "    }\n",
       "</style>\n",
       "<table border=\"1\" class=\"dataframe\">\n",
       "  <thead>\n",
       "    <tr style=\"text-align: right;\">\n",
       "      <th></th>\n",
       "      <th>Log GDP per capita</th>\n",
       "      <th>Social support</th>\n",
       "      <th>Healthy life expectancy at birth</th>\n",
       "      <th>Freedom to make life choices</th>\n",
       "      <th>Generosity</th>\n",
       "      <th>Perceptions of corruption</th>\n",
       "      <th>Positive affect</th>\n",
       "      <th>Negative affect</th>\n",
       "    </tr>\n",
       "  </thead>\n",
       "  <tbody>\n",
       "    <tr>\n",
       "      <th>0</th>\n",
       "      <td>10.488</td>\n",
       "      <td>0.935</td>\n",
       "      <td>75.00</td>\n",
       "      <td>0.783</td>\n",
       "      <td>-0.1210</td>\n",
       "      <td>0.730</td>\n",
       "      <td>0.686</td>\n",
       "      <td>0.317</td>\n",
       "    </tr>\n",
       "    <tr>\n",
       "      <th>1</th>\n",
       "      <td>10.314</td>\n",
       "      <td>0.882</td>\n",
       "      <td>68.90</td>\n",
       "      <td>0.831</td>\n",
       "      <td>-0.1220</td>\n",
       "      <td>0.639</td>\n",
       "      <td>0.677</td>\n",
       "      <td>0.203</td>\n",
       "    </tr>\n",
       "    <tr>\n",
       "      <th>2</th>\n",
       "      <td>9.800</td>\n",
       "      <td>0.713</td>\n",
       "      <td>65.36</td>\n",
       "      <td>0.621</td>\n",
       "      <td>-0.0060</td>\n",
       "      <td>0.856</td>\n",
       "      <td>0.499</td>\n",
       "      <td>0.339</td>\n",
       "    </tr>\n",
       "    <tr>\n",
       "      <th>3</th>\n",
       "      <td>9.966</td>\n",
       "      <td>0.770</td>\n",
       "      <td>65.76</td>\n",
       "      <td>0.840</td>\n",
       "      <td>-0.0160</td>\n",
       "      <td>0.842</td>\n",
       "      <td>0.887</td>\n",
       "      <td>0.155</td>\n",
       "    </tr>\n",
       "    <tr>\n",
       "      <th>4</th>\n",
       "      <td>10.730</td>\n",
       "      <td>0.931</td>\n",
       "      <td>74.00</td>\n",
       "      <td>0.887</td>\n",
       "      <td>0.0500</td>\n",
       "      <td>0.434</td>\n",
       "      <td>0.796</td>\n",
       "      <td>0.307</td>\n",
       "    </tr>\n",
       "    <tr>\n",
       "      <th>...</th>\n",
       "      <td>...</td>\n",
       "      <td>...</td>\n",
       "      <td>...</td>\n",
       "      <td>...</td>\n",
       "      <td>...</td>\n",
       "      <td>...</td>\n",
       "      <td>...</td>\n",
       "      <td>...</td>\n",
       "    </tr>\n",
       "    <tr>\n",
       "      <th>385</th>\n",
       "      <td>10.890</td>\n",
       "      <td>0.920</td>\n",
       "      <td>72.20</td>\n",
       "      <td>0.877</td>\n",
       "      <td>0.0340</td>\n",
       "      <td>0.496</td>\n",
       "      <td>0.780</td>\n",
       "      <td>0.243</td>\n",
       "    </tr>\n",
       "    <tr>\n",
       "      <th>386</th>\n",
       "      <td>10.551</td>\n",
       "      <td>0.822</td>\n",
       "      <td>72.40</td>\n",
       "      <td>0.755</td>\n",
       "      <td>0.0730</td>\n",
       "      <td>0.833</td>\n",
       "      <td>0.786</td>\n",
       "      <td>0.296</td>\n",
       "    </tr>\n",
       "    <tr>\n",
       "      <th>387</th>\n",
       "      <td>10.336</td>\n",
       "      <td>0.936</td>\n",
       "      <td>67.10</td>\n",
       "      <td>0.698</td>\n",
       "      <td>-0.1940</td>\n",
       "      <td>0.789</td>\n",
       "      <td>0.575</td>\n",
       "      <td>0.212</td>\n",
       "    </tr>\n",
       "    <tr>\n",
       "      <th>388</th>\n",
       "      <td>10.532</td>\n",
       "      <td>0.902</td>\n",
       "      <td>73.80</td>\n",
       "      <td>0.772</td>\n",
       "      <td>-0.1400</td>\n",
       "      <td>0.770</td>\n",
       "      <td>0.827</td>\n",
       "      <td>0.188</td>\n",
       "    </tr>\n",
       "    <tr>\n",
       "      <th>389</th>\n",
       "      <td>10.546</td>\n",
       "      <td>0.961</td>\n",
       "      <td>71.50</td>\n",
       "      <td>0.916</td>\n",
       "      <td>-0.0285</td>\n",
       "      <td>0.777</td>\n",
       "      <td>0.776</td>\n",
       "      <td>0.241</td>\n",
       "    </tr>\n",
       "  </tbody>\n",
       "</table>\n",
       "<p>390 rows × 8 columns</p>\n",
       "</div>"
      ],
      "text/plain": [
       "     Log GDP per capita  Social support  ...  Positive affect  Negative affect\n",
       "0                10.488           0.935  ...            0.686            0.317\n",
       "1                10.314           0.882  ...            0.677            0.203\n",
       "2                 9.800           0.713  ...            0.499            0.339\n",
       "3                 9.966           0.770  ...            0.887            0.155\n",
       "4                10.730           0.931  ...            0.796            0.307\n",
       "..                  ...             ...  ...              ...              ...\n",
       "385              10.890           0.920  ...            0.780            0.243\n",
       "386              10.551           0.822  ...            0.786            0.296\n",
       "387              10.336           0.936  ...            0.575            0.212\n",
       "388              10.532           0.902  ...            0.827            0.188\n",
       "389              10.546           0.961  ...            0.776            0.241\n",
       "\n",
       "[390 rows x 8 columns]"
      ]
     },
     "execution_count": 199,
     "metadata": {},
     "output_type": "execute_result"
    }
   ],
   "source": [
    "X1"
   ]
  },
  {
   "cell_type": "code",
   "execution_count": 202,
   "metadata": {},
   "outputs": [],
   "source": [
    "X1[X1.columns] = StandardScaler().fit_transform(X1)"
   ]
  },
  {
   "cell_type": "code",
   "execution_count": 203,
   "metadata": {},
   "outputs": [
    {
     "data": {
      "text/html": [
       "<div>\n",
       "<style scoped>\n",
       "    .dataframe tbody tr th:only-of-type {\n",
       "        vertical-align: middle;\n",
       "    }\n",
       "\n",
       "    .dataframe tbody tr th {\n",
       "        vertical-align: top;\n",
       "    }\n",
       "\n",
       "    .dataframe thead th {\n",
       "        text-align: right;\n",
       "    }\n",
       "</style>\n",
       "<table border=\"1\" class=\"dataframe\">\n",
       "  <thead>\n",
       "    <tr style=\"text-align: right;\">\n",
       "      <th></th>\n",
       "      <th>Log GDP per capita</th>\n",
       "      <th>Social support</th>\n",
       "      <th>Healthy life expectancy at birth</th>\n",
       "      <th>Freedom to make life choices</th>\n",
       "      <th>Generosity</th>\n",
       "      <th>Perceptions of corruption</th>\n",
       "      <th>Positive affect</th>\n",
       "      <th>Negative affect</th>\n",
       "    </tr>\n",
       "  </thead>\n",
       "  <tbody>\n",
       "    <tr>\n",
       "      <th>0</th>\n",
       "      <td>0.982418</td>\n",
       "      <td>1.050397</td>\n",
       "      <td>1.532300</td>\n",
       "      <td>0.266651</td>\n",
       "      <td>-0.772451</td>\n",
       "      <td>-0.087969</td>\n",
       "      <td>-0.292244</td>\n",
       "      <td>0.512276</td>\n",
       "    </tr>\n",
       "    <tr>\n",
       "      <th>1</th>\n",
       "      <td>0.826257</td>\n",
       "      <td>0.597097</td>\n",
       "      <td>0.715629</td>\n",
       "      <td>0.611145</td>\n",
       "      <td>-0.778950</td>\n",
       "      <td>-0.588855</td>\n",
       "      <td>-0.380105</td>\n",
       "      <td>-0.787192</td>\n",
       "    </tr>\n",
       "    <tr>\n",
       "      <th>2</th>\n",
       "      <td>0.364955</td>\n",
       "      <td>-0.848331</td>\n",
       "      <td>0.241693</td>\n",
       "      <td>-0.896014</td>\n",
       "      <td>-0.025127</td>\n",
       "      <td>0.605566</td>\n",
       "      <td>-2.117798</td>\n",
       "      <td>0.763050</td>\n",
       "    </tr>\n",
       "    <tr>\n",
       "      <th>3</th>\n",
       "      <td>0.513936</td>\n",
       "      <td>-0.360820</td>\n",
       "      <td>0.295245</td>\n",
       "      <td>0.675737</td>\n",
       "      <td>-0.090112</td>\n",
       "      <td>0.528506</td>\n",
       "      <td>1.669983</td>\n",
       "      <td>-1.334337</td>\n",
       "    </tr>\n",
       "    <tr>\n",
       "      <th>4</th>\n",
       "      <td>1.199607</td>\n",
       "      <td>1.016186</td>\n",
       "      <td>1.398419</td>\n",
       "      <td>1.013053</td>\n",
       "      <td>0.338787</td>\n",
       "      <td>-1.717225</td>\n",
       "      <td>0.781612</td>\n",
       "      <td>0.398287</td>\n",
       "    </tr>\n",
       "    <tr>\n",
       "      <th>...</th>\n",
       "      <td>...</td>\n",
       "      <td>...</td>\n",
       "      <td>...</td>\n",
       "      <td>...</td>\n",
       "      <td>...</td>\n",
       "      <td>...</td>\n",
       "      <td>...</td>\n",
       "      <td>...</td>\n",
       "    </tr>\n",
       "    <tr>\n",
       "      <th>385</th>\n",
       "      <td>1.343203</td>\n",
       "      <td>0.922105</td>\n",
       "      <td>1.157435</td>\n",
       "      <td>0.941284</td>\n",
       "      <td>0.234811</td>\n",
       "      <td>-1.375962</td>\n",
       "      <td>0.625414</td>\n",
       "      <td>-0.331239</td>\n",
       "    </tr>\n",
       "    <tr>\n",
       "      <th>386</th>\n",
       "      <td>1.038959</td>\n",
       "      <td>0.083927</td>\n",
       "      <td>1.184211</td>\n",
       "      <td>0.065697</td>\n",
       "      <td>0.488252</td>\n",
       "      <td>0.478968</td>\n",
       "      <td>0.683988</td>\n",
       "      <td>0.272900</td>\n",
       "    </tr>\n",
       "    <tr>\n",
       "      <th>387</th>\n",
       "      <td>0.846002</td>\n",
       "      <td>1.058950</td>\n",
       "      <td>0.474645</td>\n",
       "      <td>-0.343389</td>\n",
       "      <td>-1.246839</td>\n",
       "      <td>0.236781</td>\n",
       "      <td>-1.375862</td>\n",
       "      <td>-0.684603</td>\n",
       "    </tr>\n",
       "    <tr>\n",
       "      <th>388</th>\n",
       "      <td>1.021907</td>\n",
       "      <td>0.768154</td>\n",
       "      <td>1.371643</td>\n",
       "      <td>0.187705</td>\n",
       "      <td>-0.895922</td>\n",
       "      <td>0.132201</td>\n",
       "      <td>1.084244</td>\n",
       "      <td>-0.958175</td>\n",
       "    </tr>\n",
       "    <tr>\n",
       "      <th>389</th>\n",
       "      <td>1.034471</td>\n",
       "      <td>1.272771</td>\n",
       "      <td>1.063718</td>\n",
       "      <td>1.221185</td>\n",
       "      <td>-0.171343</td>\n",
       "      <td>0.170730</td>\n",
       "      <td>0.586365</td>\n",
       "      <td>-0.354036</td>\n",
       "    </tr>\n",
       "  </tbody>\n",
       "</table>\n",
       "<p>390 rows × 8 columns</p>\n",
       "</div>"
      ],
      "text/plain": [
       "     Log GDP per capita  Social support  ...  Positive affect  Negative affect\n",
       "0              0.982418        1.050397  ...        -0.292244         0.512276\n",
       "1              0.826257        0.597097  ...        -0.380105        -0.787192\n",
       "2              0.364955       -0.848331  ...        -2.117798         0.763050\n",
       "3              0.513936       -0.360820  ...         1.669983        -1.334337\n",
       "4              1.199607        1.016186  ...         0.781612         0.398287\n",
       "..                  ...             ...  ...              ...              ...\n",
       "385            1.343203        0.922105  ...         0.625414        -0.331239\n",
       "386            1.038959        0.083927  ...         0.683988         0.272900\n",
       "387            0.846002        1.058950  ...        -1.375862        -0.684603\n",
       "388            1.021907        0.768154  ...         1.084244        -0.958175\n",
       "389            1.034471        1.272771  ...         0.586365        -0.354036\n",
       "\n",
       "[390 rows x 8 columns]"
      ]
     },
     "execution_count": 203,
     "metadata": {},
     "output_type": "execute_result"
    }
   ],
   "source": [
    "X1"
   ]
  },
  {
   "cell_type": "code",
   "execution_count": 204,
   "metadata": {},
   "outputs": [
    {
     "data": {
      "text/plain": [
       "(390, 8)"
      ]
     },
     "execution_count": 204,
     "metadata": {},
     "output_type": "execute_result"
    }
   ],
   "source": [
    "X1.shape"
   ]
  },
  {
   "cell_type": "code",
   "execution_count": 205,
   "metadata": {},
   "outputs": [],
   "source": [
    "RF_final = RandomForestRegressor(n_estimators=91)\n",
    "RF_final.fit(X_train,y_train)\n",
    "RF\n",
    "OP = RF_final.predict(X1)"
   ]
  },
  {
   "cell_type": "code",
   "execution_count": 212,
   "metadata": {},
   "outputs": [],
   "source": [
    "Final = pd.DataFrame(test_data['ID'])\n",
    "Final['Output'] = OP\n",
    "Final.to_csv('submission.csv',index=False,header=False)\n"
   ]
  },
  {
   "cell_type": "code",
   "execution_count": null,
   "metadata": {},
   "outputs": [],
   "source": []
  }
 ],
 "metadata": {
  "kernelspec": {
   "display_name": "Python 3",
   "language": "python",
   "name": "python3"
  },
  "language_info": {
   "codemirror_mode": {
    "name": "ipython",
    "version": 3
   },
   "file_extension": ".py",
   "mimetype": "text/x-python",
   "name": "python",
   "nbconvert_exporter": "python",
   "pygments_lexer": "ipython3",
   "version": "3.8.5"
  }
 },
 "nbformat": 4,
 "nbformat_minor": 4
}
